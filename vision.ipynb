{
 "cells": [
  {
   "cell_type": "code",
   "execution_count": 3,
   "metadata": {},
   "outputs": [],
   "source": [
    "import numpy as np\n",
    "import cv2\n",
    "import matplotlib.pyplot as plt"
   ]
  },
  {
   "cell_type": "code",
   "execution_count": 4,
   "metadata": {},
   "outputs": [],
   "source": [
    "testImg = cv2.imread(\"./images/1b2w.jpg\")"
   ]
  },
  {
   "cell_type": "code",
   "execution_count": 11,
   "metadata": {},
   "outputs": [],
   "source": [
    "def openCamera(source):\n",
    "    \n",
    "    cap = cv2.VideoCapture(source)\n",
    "    if cap.isOpened() == False:\n",
    "        print(\"something isnt working: can't capture video\")\n",
    "    \n",
    "    cv2.namedWindow(\"what camera is seeing\", cv2.WINDOW_NORMAL)\n",
    "    cv2.resizeWindow(\"what camera is seeing\", (800, 800))\n",
    "    \n",
    "    while cap.isOpened():\n",
    "        \n",
    "        ret, frame = cap.read()\n",
    "        \n",
    "        frame = imagePreProcessing(frame)\n",
    "#         frame = imageEdges(frame)\n",
    "        frame = contours(frame)\n",
    "        cv2.imshow(\"what camera is seeing\", frame)\n",
    "        \n",
    "        k = cv2.waitKey(1) & 0xFF\n",
    "        if k == ord(\"q\"):\n",
    "            break\n",
    "        elif k == ord(\"w\"):\n",
    "            cv2.imwrite(\"./images/outpuImg.jpg\", frame)\n",
    "            \n",
    "#         if cv2.waitKey(1) & 0xFF == ord(\"w\"):\n",
    "#             cv2.imwrite(\"./images/outpuImg.jpg\", frame)\n",
    "#             continue\n",
    "#         elif cv2.waitKey(1) & 0xFF == 27:\n",
    "#             break\n",
    "            \n",
    "    cap.release()\n",
    "    cv2.destroyAllWindows()"
   ]
  },
  {
   "cell_type": "code",
   "execution_count": 6,
   "metadata": {},
   "outputs": [],
   "source": [
    "def imagePreProcessing(img):\n",
    "    grayImg = cv2.cvtColor(img, cv2.COLOR_RGB2GRAY)            \n",
    "\n",
    "    blurredGray = cv2.medianBlur(grayImg, 25)\n",
    "    \n",
    "    return blurredGray"
   ]
  },
  {
   "cell_type": "code",
   "execution_count": 7,
   "metadata": {},
   "outputs": [],
   "source": [
    "def imageEdges(img):\n",
    "    grayMedian = np.median(img)\n",
    "    lower = int(max(0, 0.7*grayMedian))\n",
    "    higher = int(min(255, 1.3*grayMedian))\n",
    "    \n",
    "    edges = cv2.Canny(image=img, threshold1=lower , threshold2=higher)\n",
    "#     edges = cv2.Canny(image=grayImg, threshold1=100, threshold2=150)\n",
    "\n",
    "    return edges"
   ]
  },
  {
   "cell_type": "code",
   "execution_count": 8,
   "metadata": {},
   "outputs": [],
   "source": [
    "def contours(img):\n",
    "    mockImg = np.zeros(img.shape)\n",
    "    contours, hierarchy = cv2.findContours(img, cv2.RETR_EXTERNAL, cv2.CHAIN_APPROX_SIMPLE)\n",
    "\n",
    "    for i in range(len(contours)):\n",
    "        cv2.drawContours(mockImg, contours, i, 255, -1)\n",
    "        \n",
    "    return mockImg"
   ]
  },
  {
   "cell_type": "code",
   "execution_count": 9,
   "metadata": {},
   "outputs": [],
   "source": [
    "def watershed(img):\n",
    "    pass"
   ]
  },
  {
   "cell_type": "code",
   "execution_count": 12,
   "metadata": {},
   "outputs": [],
   "source": [
    "openCamera(2)"
   ]
  },
  {
   "cell_type": "code",
   "execution_count": 21,
   "metadata": {},
   "outputs": [
    {
     "data": {
      "text/plain": [
       "<matplotlib.image.AxesImage at 0x7efcc3ed5a58>"
      ]
     },
     "execution_count": 21,
     "metadata": {},
     "output_type": "execute_result"
    },
    {
     "data": {
      "image/png": "[encoded data removed]",
      "text/plain": [
       "<Figure size 432x288 with 1 Axes>"
      ]
     },
     "metadata": {
      "needs_background": "light"
     },
     "output_type": "display_data"
    }
   ],
   "source": [
    "img = imageProcessing(testImg) \n",
    "plt.imshow()\n",
    "type(img)\n",
    "contours = Contours(img) \n",
    "plt.imshow(contours)"
   ]
  }
 ],
 "metadata": {
  "kernelspec": {
   "display_name": "Python 3",
   "language": "python",
   "name": "python3"
  },
  "language_info": {
   "codemirror_mode": {
    "name": "ipython",
    "version": 3
   },
   "file_extension": ".py",
   "mimetype": "text/x-python",
   "name": "python",
   "nbconvert_exporter": "python",
   "pygments_lexer": "ipython3",
   "version": "3.7.3"
  }
 },
 "nbformat": 4,
 "nbformat_minor": 2
}
